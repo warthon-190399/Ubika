{
 "cells": [
  {
   "cell_type": "code",
   "execution_count": 1,
   "id": "ae3f58e6",
   "metadata": {},
   "outputs": [],
   "source": [
    "import pandas as pd"
   ]
  },
  {
   "cell_type": "code",
   "execution_count": 2,
   "id": "43e6f353",
   "metadata": {},
   "outputs": [
    {
     "data": {
      "application/vnd.microsoft.datawrangler.viewer.v0+json": {
       "columns": [
        {
         "name": "index",
         "rawType": "int64",
         "type": "integer"
        },
        {
         "name": "precio_pen",
         "rawType": "float64",
         "type": "float"
        },
        {
         "name": "precio_usd",
         "rawType": "float64",
         "type": "float"
        },
        {
         "name": "mantenimiento_soles",
         "rawType": "float64",
         "type": "float"
        },
        {
         "name": "area_m2",
         "rawType": "float64",
         "type": "float"
        },
        {
         "name": "num_dorm",
         "rawType": "float64",
         "type": "float"
        },
        {
         "name": "num_banios",
         "rawType": "float64",
         "type": "float"
        },
        {
         "name": "num_estac",
         "rawType": "float64",
         "type": "float"
        },
        {
         "name": "antiguedad",
         "rawType": "float64",
         "type": "float"
        },
        {
         "name": "num_visualizaciones",
         "rawType": "float64",
         "type": "float"
        },
        {
         "name": "fecha_pub",
         "rawType": "object",
         "type": "string"
        },
        {
         "name": "distrito",
         "rawType": "object",
         "type": "string"
        },
        {
         "name": "nivel_socioeconomico",
         "rawType": "object",
         "type": "string"
        },
        {
         "name": "direccion_completa",
         "rawType": "object",
         "type": "string"
        },
        {
         "name": "latitud",
         "rawType": "float64",
         "type": "float"
        },
        {
         "name": "longitud",
         "rawType": "float64",
         "type": "float"
        }
       ],
       "ref": "b3b5de7e-0947-4ba6-bfe4-588cc4ac7ac3",
       "rows": [
        [
         "0",
         "3600.0",
         "1000.0",
         "380.0",
         "80.0",
         "2.0",
         "3.0",
         "1.0",
         "2.0",
         "46.0",
         "2025-06-09",
         "miraflores",
         "A",
         "malecon jose balta 780, miraflores",
         "-12.12416",
         "-77.0330894"
        ],
        [
         "1",
         "1750.0",
         "481.0",
         "250.0",
         "74.0",
         "3.0",
         "3.0",
         null,
         "0.0",
         "398.0",
         "2025-06-16",
         "lima cercado",
         "C",
         "av venezuela 2575 - cercado de lima, lima cercado",
         "-12.0577678",
         "-77.06694329999999"
        ],
        [
         "2",
         "1550.0",
         null,
         "200.0",
         "23.0",
         "1.0",
         "1.0",
         null,
         "1.0",
         "203.0",
         "2025-06-12",
         "miraflores",
         "A",
         "av 28 de julio miraflores miraflores lima, miraflores",
         "-12.0627478",
         "-77.0262624"
        ],
        [
         "3",
         "1674.0",
         "450.0",
         null,
         "32.0",
         "1.0",
         "1.0",
         null,
         "6.0",
         "295.0",
         "2025-02-21",
         "lima cercado",
         "C",
         "jr mercurio, lima cercado",
         "-12.0463808",
         "-77.0432246"
        ],
        [
         "4",
         "2100.0",
         "575.0",
         "180.0",
         "54.0",
         "1.0",
         "1.0",
         null,
         "0.0",
         "57.0",
         "2025-06-09",
         "lima cercado",
         "C",
         "salaverry al 200, lima",
         "-12.0466888",
         "-77.04308859999999"
        ]
       ],
       "shape": {
        "columns": 15,
        "rows": 5
       }
      },
      "text/html": [
       "<div>\n",
       "<style scoped>\n",
       "    .dataframe tbody tr th:only-of-type {\n",
       "        vertical-align: middle;\n",
       "    }\n",
       "\n",
       "    .dataframe tbody tr th {\n",
       "        vertical-align: top;\n",
       "    }\n",
       "\n",
       "    .dataframe thead th {\n",
       "        text-align: right;\n",
       "    }\n",
       "</style>\n",
       "<table border=\"1\" class=\"dataframe\">\n",
       "  <thead>\n",
       "    <tr style=\"text-align: right;\">\n",
       "      <th></th>\n",
       "      <th>precio_pen</th>\n",
       "      <th>precio_usd</th>\n",
       "      <th>mantenimiento_soles</th>\n",
       "      <th>area_m2</th>\n",
       "      <th>num_dorm</th>\n",
       "      <th>num_banios</th>\n",
       "      <th>num_estac</th>\n",
       "      <th>antiguedad</th>\n",
       "      <th>num_visualizaciones</th>\n",
       "      <th>fecha_pub</th>\n",
       "      <th>distrito</th>\n",
       "      <th>nivel_socioeconomico</th>\n",
       "      <th>direccion_completa</th>\n",
       "      <th>latitud</th>\n",
       "      <th>longitud</th>\n",
       "    </tr>\n",
       "  </thead>\n",
       "  <tbody>\n",
       "    <tr>\n",
       "      <th>0</th>\n",
       "      <td>3600.0</td>\n",
       "      <td>1000.0</td>\n",
       "      <td>380.0</td>\n",
       "      <td>80.0</td>\n",
       "      <td>2.0</td>\n",
       "      <td>3.0</td>\n",
       "      <td>1.0</td>\n",
       "      <td>2.0</td>\n",
       "      <td>46.0</td>\n",
       "      <td>2025-06-09</td>\n",
       "      <td>miraflores</td>\n",
       "      <td>A</td>\n",
       "      <td>malecon jose balta 780, miraflores</td>\n",
       "      <td>-12.124160</td>\n",
       "      <td>-77.033089</td>\n",
       "    </tr>\n",
       "    <tr>\n",
       "      <th>1</th>\n",
       "      <td>1750.0</td>\n",
       "      <td>481.0</td>\n",
       "      <td>250.0</td>\n",
       "      <td>74.0</td>\n",
       "      <td>3.0</td>\n",
       "      <td>3.0</td>\n",
       "      <td>NaN</td>\n",
       "      <td>0.0</td>\n",
       "      <td>398.0</td>\n",
       "      <td>2025-06-16</td>\n",
       "      <td>lima cercado</td>\n",
       "      <td>C</td>\n",
       "      <td>av venezuela 2575 - cercado de lima, lima cercado</td>\n",
       "      <td>-12.057768</td>\n",
       "      <td>-77.066943</td>\n",
       "    </tr>\n",
       "    <tr>\n",
       "      <th>2</th>\n",
       "      <td>1550.0</td>\n",
       "      <td>NaN</td>\n",
       "      <td>200.0</td>\n",
       "      <td>23.0</td>\n",
       "      <td>1.0</td>\n",
       "      <td>1.0</td>\n",
       "      <td>NaN</td>\n",
       "      <td>1.0</td>\n",
       "      <td>203.0</td>\n",
       "      <td>2025-06-12</td>\n",
       "      <td>miraflores</td>\n",
       "      <td>A</td>\n",
       "      <td>av 28 de julio miraflores miraflores lima, mir...</td>\n",
       "      <td>-12.062748</td>\n",
       "      <td>-77.026262</td>\n",
       "    </tr>\n",
       "    <tr>\n",
       "      <th>3</th>\n",
       "      <td>1674.0</td>\n",
       "      <td>450.0</td>\n",
       "      <td>NaN</td>\n",
       "      <td>32.0</td>\n",
       "      <td>1.0</td>\n",
       "      <td>1.0</td>\n",
       "      <td>NaN</td>\n",
       "      <td>6.0</td>\n",
       "      <td>295.0</td>\n",
       "      <td>2025-02-21</td>\n",
       "      <td>lima cercado</td>\n",
       "      <td>C</td>\n",
       "      <td>jr mercurio, lima cercado</td>\n",
       "      <td>-12.046381</td>\n",
       "      <td>-77.043225</td>\n",
       "    </tr>\n",
       "    <tr>\n",
       "      <th>4</th>\n",
       "      <td>2100.0</td>\n",
       "      <td>575.0</td>\n",
       "      <td>180.0</td>\n",
       "      <td>54.0</td>\n",
       "      <td>1.0</td>\n",
       "      <td>1.0</td>\n",
       "      <td>NaN</td>\n",
       "      <td>0.0</td>\n",
       "      <td>57.0</td>\n",
       "      <td>2025-06-09</td>\n",
       "      <td>lima cercado</td>\n",
       "      <td>C</td>\n",
       "      <td>salaverry al 200, lima</td>\n",
       "      <td>-12.046689</td>\n",
       "      <td>-77.043089</td>\n",
       "    </tr>\n",
       "  </tbody>\n",
       "</table>\n",
       "</div>"
      ],
      "text/plain": [
       "   precio_pen  precio_usd  mantenimiento_soles  area_m2  num_dorm  num_banios  \\\n",
       "0      3600.0      1000.0                380.0     80.0       2.0         3.0   \n",
       "1      1750.0       481.0                250.0     74.0       3.0         3.0   \n",
       "2      1550.0         NaN                200.0     23.0       1.0         1.0   \n",
       "3      1674.0       450.0                  NaN     32.0       1.0         1.0   \n",
       "4      2100.0       575.0                180.0     54.0       1.0         1.0   \n",
       "\n",
       "   num_estac  antiguedad  num_visualizaciones   fecha_pub      distrito  \\\n",
       "0        1.0         2.0                 46.0  2025-06-09    miraflores   \n",
       "1        NaN         0.0                398.0  2025-06-16  lima cercado   \n",
       "2        NaN         1.0                203.0  2025-06-12    miraflores   \n",
       "3        NaN         6.0                295.0  2025-02-21  lima cercado   \n",
       "4        NaN         0.0                 57.0  2025-06-09  lima cercado   \n",
       "\n",
       "  nivel_socioeconomico                                 direccion_completa  \\\n",
       "0                    A                 malecon jose balta 780, miraflores   \n",
       "1                    C  av venezuela 2575 - cercado de lima, lima cercado   \n",
       "2                    A  av 28 de julio miraflores miraflores lima, mir...   \n",
       "3                    C                          jr mercurio, lima cercado   \n",
       "4                    C                             salaverry al 200, lima   \n",
       "\n",
       "     latitud   longitud  \n",
       "0 -12.124160 -77.033089  \n",
       "1 -12.057768 -77.066943  \n",
       "2 -12.062748 -77.026262  \n",
       "3 -12.046381 -77.043225  \n",
       "4 -12.046689 -77.043089  "
      ]
     },
     "execution_count": 2,
     "metadata": {},
     "output_type": "execute_result"
    }
   ],
   "source": [
    "df = pd.read_csv(\"C:/PC/7. PROYECTOS/Ubika/data/processed/adondevivir_processed_geo.csv\", encoding=\"utf-8\")\n",
    "df.head()\n"
   ]
  },
  {
   "cell_type": "code",
   "execution_count": 3,
   "id": "c28ef751",
   "metadata": {},
   "outputs": [
    {
     "data": {
      "application/vnd.microsoft.datawrangler.viewer.v0+json": {
       "columns": [
        {
         "name": "index",
         "rawType": "int64",
         "type": "integer"
        },
        {
         "name": "nombre_de_ss.ee.",
         "rawType": "object",
         "type": "string"
        },
        {
         "name": "departamento",
         "rawType": "object",
         "type": "string"
        },
        {
         "name": "provincia",
         "rawType": "object",
         "type": "string"
        },
        {
         "name": "distrito",
         "rawType": "object",
         "type": "string"
        },
        {
         "name": "dre__ugel",
         "rawType": "object",
         "type": "string"
        },
        {
         "name": "direccion",
         "rawType": "object",
         "type": "string"
        },
        {
         "name": "nivel__modalidad",
         "rawType": "object",
         "type": "string"
        },
        {
         "name": "gestion__dependencia",
         "rawType": "object",
         "type": "string"
        },
        {
         "name": "latitud",
         "rawType": "float64",
         "type": "float"
        },
        {
         "name": "longitud",
         "rawType": "float64",
         "type": "float"
        }
       ],
       "ref": "299826f1-eb6b-43bd-9e0b-4a391a2c4b37",
       "rows": [
        [
         "0",
         "innova schools - bertello",
         "lima",
         "lima",
         "lima",
         "03 brena",
         "sub lote 5-b mz c lote 3-4-5",
         "inicial - jardin",
         "privada - particular",
         "-12.06259",
         "-77.06233"
        ],
        [
         "1",
         "innova schools - bertello",
         "lima",
         "lima",
         "lima",
         "03 brena",
         "sub lote 5-b mz c lote 3-4-5",
         "primaria",
         "privada - particular",
         "-12.06259",
         "-77.06233"
        ],
        [
         "2",
         "innova schools - bertello",
         "lima",
         "lima",
         "lima",
         "03 brena",
         "sub lote 5-b mz c lote 3-4-5",
         "secundaria",
         "privada - particular",
         "-12.06259",
         "-77.06233"
        ],
        [
         "3",
         "0001 maria auxiliadora",
         "lima",
         "lima",
         "lima",
         "03 brena",
         "jiron isaias clivio 237",
         "primaria",
         "publica - en convenio",
         "-12.04671",
         "-77.01373"
        ],
        [
         "4",
         "0001 maria auxiliadora",
         "lima",
         "lima",
         "lima",
         "03 brena",
         "jiron isaias clivio 237",
         "secundaria",
         "publica - en convenio",
         "-12.04671",
         "-77.01373"
        ],
        [
         "5",
         "0035 nuestra senora de la visitacion",
         "lima",
         "lima",
         "lima",
         "03 brena",
         "jiron pacasmayo 550",
         "inicial - jardin",
         "publica - sector educacion",
         "-12.046186",
         "-77.046883"
        ],
        [
         "6",
         "0035 nuestra senora de la visitacion",
         "lima",
         "lima",
         "lima",
         "03 brena",
         "jiron pacasmayo 550",
         "secundaria",
         "publica - sector educacion",
         "-12.046186",
         "-77.046883"
        ],
        [
         "7",
         "0035 nuestra senora de la visitacion",
         "lima",
         "lima",
         "lima",
         "03 brena",
         "jiron pacasmayo 550",
         "primaria",
         "publica - sector educacion",
         "-12.046186",
         "-77.046883"
        ],
        [
         "8",
         "0038 san martin de porres",
         "lima",
         "lima",
         "lima",
         "03 brena",
         "jiron ascope 142",
         "primaria",
         "publica - sector educacion",
         "-12.03948",
         "-77.04636"
        ],
        [
         "9",
         "0038 san martin de porres",
         "lima",
         "lima",
         "lima",
         "03 brena",
         "jiron ascope 142",
         "inicial - jardin",
         "publica - sector educacion",
         "-12.03948",
         "-77.04636"
        ],
        [
         "10",
         "0040 hipolito unanue",
         "lima",
         "lima",
         "lima",
         "03 brena",
         "avenida elvira garcia y garcia s/n",
         "basica alternativa - avanzado",
         "publica - sector educacion",
         "-12.05265",
         "-77.0704"
        ],
        [
         "11",
         "0040 hipolito unanue",
         "lima",
         "lima",
         "lima",
         "03 brena",
         "avenida elvira garcia y garcia s/n",
         "secundaria",
         "publica - sector educacion",
         "-12.05265",
         "-77.0704"
        ],
        [
         "12",
         "0040 hipolito unanue",
         "lima",
         "lima",
         "lima",
         "03 brena",
         "avenida elvira garcia y garcia s/n",
         "primaria",
         "publica - sector educacion",
         "-12.05265",
         "-77.0704"
        ],
        [
         "13",
         "0095 maria auxiliadora",
         "lima",
         "lima",
         "lima",
         "03 brena",
         "avenida materiales 2005",
         "primaria",
         "publica - sector educacion",
         "-12.04113",
         "-77.06812"
        ],
        [
         "14",
         "0095 maria auxiliadora",
         "lima",
         "lima",
         "lima",
         "03 brena",
         "avenida materiales 2005",
         "secundaria",
         "publica - sector educacion",
         "-12.04113",
         "-77.06812"
        ],
        [
         "15",
         "0099 oscar miro quesada de la guerra",
         "lima",
         "lima",
         "lima",
         "03 brena",
         "jiron paruro 231",
         "primaria",
         "publica - sector educacion",
         "-12.04595",
         "-77.02188"
        ],
        [
         "16",
         "0099 oscar miro quesada de la guerra",
         "lima",
         "lima",
         "lima",
         "03 brena",
         "jiron paruro 231",
         "secundaria",
         "publica - sector educacion",
         "-12.04595",
         "-77.02188"
        ],
        [
         "17",
         "022 republica de guatemala",
         "lima",
         "lima",
         "lima",
         "03 brena",
         "jiron manuel pardo 225",
         "secundaria",
         "publica - sector educacion",
         "-12.04685",
         "-77.01556"
        ],
        [
         "18",
         "022 republica de guatemala",
         "lima",
         "lima",
         "lima",
         "03 brena",
         "jiron manuel pardo 225",
         "inicial - jardin",
         "publica - sector educacion",
         "-12.04685",
         "-77.01556"
        ],
        [
         "19",
         "022 republica de guatemala",
         "lima",
         "lima",
         "lima",
         "03 brena",
         "jiron manuel pardo 225",
         "primaria",
         "publica - sector educacion",
         "-12.04685",
         "-77.01556"
        ],
        [
         "20",
         "030 santa teresita del divino nino",
         "lima",
         "lima",
         "lima",
         "03 brena",
         "jiron jose diaz 412",
         "inicial - jardin",
         "publica - sector educacion",
         "-12.06868",
         "-77.03501"
        ],
        [
         "21",
         "06 republica de holanda",
         "lima",
         "lima",
         "lima",
         "03 brena",
         "jiron carabaya 1171",
         "inicial - jardin",
         "publica - sector educacion",
         "-12.05526",
         "-77.03562"
        ],
        [
         "22",
         "077 manzanilla",
         "lima",
         "lima",
         "lima",
         "03 brena",
         "avenida nicolas ayllon cdra 3 s/n",
         "inicial - cuna jardin",
         "publica - sector educacion",
         "-12.05753",
         "-77.01097"
        ],
        [
         "23",
         "088 nina maria",
         "lima",
         "lima",
         "lima",
         "03 brena",
         "jiron conde de superunda 446",
         "inicial - cuna jardin",
         "publica - municipalidad",
         "-12.04297",
         "-77.03416"
        ],
        [
         "24",
         "097 ministerio publico",
         "lima",
         "lima",
         "lima",
         "03 brena",
         "jiron ayacucho 613",
         "inicial - cuna jardin",
         "publica - otro sector publico",
         "-12.05165",
         "-77.02742"
        ],
        [
         "25",
         "100 virgen de la merced",
         "lima",
         "lima",
         "lima",
         "03 brena",
         "avenida morales duarez 2053",
         "inicial - jardin",
         "publica - sector educacion",
         "-12.03522",
         "-77.0685"
        ],
        [
         "26",
         "1001 jose jimenez borja",
         "lima",
         "lima",
         "lima",
         "03 brena",
         "jiron washington 1454",
         "secundaria",
         "publica - sector educacion",
         "-12.05908",
         "-77.03922"
        ],
        [
         "27",
         "1001 jose jimenez borja",
         "lima",
         "lima",
         "lima",
         "03 brena",
         "jiron washington 1454",
         "primaria",
         "publica - sector educacion",
         "-12.05908",
         "-77.03922"
        ],
        [
         "28",
         "101 libertador simon bolivar",
         "lima",
         "lima",
         "lima",
         "03 brena",
         "jiron ramon carcamo 195",
         "inicial - jardin",
         "publica - sector educacion",
         "-12.040281",
         "-77.051309"
        ],
        [
         "29",
         "1015 republica de italia",
         "lima",
         "lima",
         "lima",
         "03 brena",
         "avenida venezuela cdra 27 block 5 s/n",
         "inicial - jardin",
         "publica - sector educacion",
         "-12.05946",
         "-77.07164"
        ],
        [
         "30",
         "1015 republica de italia",
         "lima",
         "lima",
         "lima",
         "03 brena",
         "avenida venezuela cdra 27 block 5 s/n",
         "primaria",
         "publica - sector educacion",
         "-12.05946",
         "-77.07164"
        ],
        [
         "31",
         "1016 john f. kennedy",
         "lima",
         "lima",
         "lima",
         "03 brena",
         "avenida venezuela s/n",
         "primaria",
         "publica - sector educacion",
         "-12.0589",
         "-77.07191"
        ],
        [
         "32",
         "102 hospital dos de mayo",
         "lima",
         "lima",
         "lima",
         "03 brena",
         "avenida grau cuadra 12 s/n",
         "inicial - cuna jardin",
         "publica - otro sector publico",
         "-12.05672",
         "-77.01668"
        ],
        [
         "33",
         "1021 republica federal de alemania",
         "lima",
         "lima",
         "lima",
         "03 brena",
         "avenida belisario sosa pelaez 1550",
         "secundaria",
         "publica - sector educacion",
         "-12.0644",
         "-77.06369"
        ],
        [
         "34",
         "1021 republica federal de alemania",
         "lima",
         "lima",
         "lima",
         "03 brena",
         "avenida belisario sosa pelaez 1550",
         "primaria",
         "publica - sector educacion",
         "-12.0644",
         "-77.06369"
        ],
        [
         "35",
         "1027 republica de nicaragua",
         "lima",
         "lima",
         "lima",
         "03 brena",
         "jiron ancash 1379",
         "primaria",
         "publica - sector educacion",
         "-12.04557",
         "-77.01448"
        ],
        [
         "36",
         "1027 republica de nicaragua",
         "lima",
         "lima",
         "lima",
         "03 brena",
         "jiron ancash 1379",
         "inicial - jardin",
         "publica - sector educacion",
         "-12.04557",
         "-77.01448"
        ],
        [
         "37",
         "1028 republica argentina",
         "lima",
         "lima",
         "lima",
         "03 brena",
         "jiron miroquesada 1340",
         "primaria",
         "publica - sector educacion",
         "-12.05314",
         "-77.01645"
        ],
        [
         "38",
         "1028 republica argentina",
         "lima",
         "lima",
         "lima",
         "03 brena",
         "jiron miroquesada 1340",
         "secundaria",
         "publica - sector educacion",
         "-12.05314",
         "-77.01645"
        ],
        [
         "39",
         "103 luis armando cabello hurtado",
         "lima",
         "lima",
         "lima",
         "03 brena",
         "pasaje alto de la alianza s/n",
         "secundaria",
         "publica - sector educacion",
         "-12.05834",
         "-77.01134"
        ],
        [
         "40",
         "103 luis armando cabello hurtado",
         "lima",
         "lima",
         "lima",
         "03 brena",
         "pasaje alto de la alianza s/n",
         "primaria",
         "publica - sector educacion",
         "-12.05834",
         "-77.01134"
        ],
        [
         "41",
         "103 luis armando cabello hurtado",
         "lima",
         "lima",
         "lima",
         "03 brena",
         "pasaje alto de la alianza s/n",
         "inicial - jardin",
         "publica - sector educacion",
         "-12.05834",
         "-77.01134"
        ],
        [
         "42",
         "1032 republica del brasil",
         "lima",
         "lima",
         "lima",
         "03 brena",
         "jiron cangallo 731",
         "primaria",
         "publica - sector educacion",
         "-12.05586",
         "-77.02194"
        ],
        [
         "43",
         "1032 republica del brasil",
         "lima",
         "lima",
         "lima",
         "03 brena",
         "jiron cangallo 731",
         "inicial - jardin",
         "publica - sector educacion",
         "-12.05586",
         "-77.02194"
        ],
        [
         "44",
         "1035 jose del carmen marin arista",
         "lima",
         "lima",
         "lima",
         "03 brena",
         "avenida nicolas de pierola 1533",
         "inicial - jardin",
         "publica - sector educacion",
         "-12.05579",
         "-77.02819"
        ],
        [
         "45",
         "1035 jose del carmen marin arista",
         "lima",
         "lima",
         "lima",
         "03 brena",
         "avenida nicolas de pierola 1533",
         "primaria",
         "publica - sector educacion",
         "-12.05579",
         "-77.02819"
        ],
        [
         "46",
         "1035 jose del carmen marin arista",
         "lima",
         "lima",
         "lima",
         "03 brena",
         "avenida nicolas de pierola 1533",
         "secundaria",
         "publica - sector educacion",
         "-12.05579",
         "-77.02819"
        ],
        [
         "47",
         "1036 republica de costa rica",
         "lima",
         "lima",
         "lima",
         "03 brena",
         "jiron desaguadero 490",
         "inicial - jardin",
         "publica - sector educacion",
         "-12.04939",
         "-77.01234"
        ],
        [
         "48",
         "1036 republica de costa rica",
         "lima",
         "lima",
         "lima",
         "03 brena",
         "jiron desaguadero 490",
         "primaria",
         "publica - sector educacion",
         "-12.04939",
         "-77.01234"
        ],
        [
         "49",
         "1037 ramon espinoza",
         "lima",
         "lima",
         "lima",
         "03 brena",
         "jiron ancash 1254",
         "primaria",
         "publica - sector educacion",
         "-12.04673",
         "-77.01667"
        ]
       ],
       "shape": {
        "columns": 10,
        "rows": 13724
       }
      },
      "text/html": [
       "<div>\n",
       "<style scoped>\n",
       "    .dataframe tbody tr th:only-of-type {\n",
       "        vertical-align: middle;\n",
       "    }\n",
       "\n",
       "    .dataframe tbody tr th {\n",
       "        vertical-align: top;\n",
       "    }\n",
       "\n",
       "    .dataframe thead th {\n",
       "        text-align: right;\n",
       "    }\n",
       "</style>\n",
       "<table border=\"1\" class=\"dataframe\">\n",
       "  <thead>\n",
       "    <tr style=\"text-align: right;\">\n",
       "      <th></th>\n",
       "      <th>nombre_de_ss.ee.</th>\n",
       "      <th>departamento</th>\n",
       "      <th>provincia</th>\n",
       "      <th>distrito</th>\n",
       "      <th>dre__ugel</th>\n",
       "      <th>direccion</th>\n",
       "      <th>nivel__modalidad</th>\n",
       "      <th>gestion__dependencia</th>\n",
       "      <th>latitud</th>\n",
       "      <th>longitud</th>\n",
       "    </tr>\n",
       "  </thead>\n",
       "  <tbody>\n",
       "    <tr>\n",
       "      <th>0</th>\n",
       "      <td>innova schools - bertello</td>\n",
       "      <td>lima</td>\n",
       "      <td>lima</td>\n",
       "      <td>lima</td>\n",
       "      <td>03 brena</td>\n",
       "      <td>sub lote 5-b mz c lote 3-4-5</td>\n",
       "      <td>inicial - jardin</td>\n",
       "      <td>privada - particular</td>\n",
       "      <td>-12.062590</td>\n",
       "      <td>-77.062330</td>\n",
       "    </tr>\n",
       "    <tr>\n",
       "      <th>1</th>\n",
       "      <td>innova schools - bertello</td>\n",
       "      <td>lima</td>\n",
       "      <td>lima</td>\n",
       "      <td>lima</td>\n",
       "      <td>03 brena</td>\n",
       "      <td>sub lote 5-b mz c lote 3-4-5</td>\n",
       "      <td>primaria</td>\n",
       "      <td>privada - particular</td>\n",
       "      <td>-12.062590</td>\n",
       "      <td>-77.062330</td>\n",
       "    </tr>\n",
       "    <tr>\n",
       "      <th>2</th>\n",
       "      <td>innova schools - bertello</td>\n",
       "      <td>lima</td>\n",
       "      <td>lima</td>\n",
       "      <td>lima</td>\n",
       "      <td>03 brena</td>\n",
       "      <td>sub lote 5-b mz c lote 3-4-5</td>\n",
       "      <td>secundaria</td>\n",
       "      <td>privada - particular</td>\n",
       "      <td>-12.062590</td>\n",
       "      <td>-77.062330</td>\n",
       "    </tr>\n",
       "    <tr>\n",
       "      <th>3</th>\n",
       "      <td>0001 maria auxiliadora</td>\n",
       "      <td>lima</td>\n",
       "      <td>lima</td>\n",
       "      <td>lima</td>\n",
       "      <td>03 brena</td>\n",
       "      <td>jiron isaias clivio 237</td>\n",
       "      <td>primaria</td>\n",
       "      <td>publica - en convenio</td>\n",
       "      <td>-12.046710</td>\n",
       "      <td>-77.013730</td>\n",
       "    </tr>\n",
       "    <tr>\n",
       "      <th>4</th>\n",
       "      <td>0001 maria auxiliadora</td>\n",
       "      <td>lima</td>\n",
       "      <td>lima</td>\n",
       "      <td>lima</td>\n",
       "      <td>03 brena</td>\n",
       "      <td>jiron isaias clivio 237</td>\n",
       "      <td>secundaria</td>\n",
       "      <td>publica - en convenio</td>\n",
       "      <td>-12.046710</td>\n",
       "      <td>-77.013730</td>\n",
       "    </tr>\n",
       "    <tr>\n",
       "      <th>...</th>\n",
       "      <td>...</td>\n",
       "      <td>...</td>\n",
       "      <td>...</td>\n",
       "      <td>...</td>\n",
       "      <td>...</td>\n",
       "      <td>...</td>\n",
       "      <td>...</td>\n",
       "      <td>...</td>\n",
       "      <td>...</td>\n",
       "      <td>...</td>\n",
       "    </tr>\n",
       "    <tr>\n",
       "      <th>13719</th>\n",
       "      <td>los ingenieros de villa poeta</td>\n",
       "      <td>lima</td>\n",
       "      <td>lima</td>\n",
       "      <td>villa maria del triunfo</td>\n",
       "      <td>01 san juan de miraflores</td>\n",
       "      <td>jiron jose olaya parcela b 301 mz 51b lote 1</td>\n",
       "      <td>inicial - jardin</td>\n",
       "      <td>privada - particular</td>\n",
       "      <td>-12.227230</td>\n",
       "      <td>-76.907730</td>\n",
       "    </tr>\n",
       "    <tr>\n",
       "      <th>13720</th>\n",
       "      <td>los ingenieros de villa poeta</td>\n",
       "      <td>lima</td>\n",
       "      <td>lima</td>\n",
       "      <td>villa maria del triunfo</td>\n",
       "      <td>01 san juan de miraflores</td>\n",
       "      <td>jiron jose olaya parcela b 301 mz 51b lote 1</td>\n",
       "      <td>primaria</td>\n",
       "      <td>privada - particular</td>\n",
       "      <td>-12.227230</td>\n",
       "      <td>-76.907730</td>\n",
       "    </tr>\n",
       "    <tr>\n",
       "      <th>13721</th>\n",
       "      <td>los ingenieros de villa poeta</td>\n",
       "      <td>lima</td>\n",
       "      <td>lima</td>\n",
       "      <td>villa maria del triunfo</td>\n",
       "      <td>01 san juan de miraflores</td>\n",
       "      <td>jiron jose olaya parcela b 301 mz 51b lote 1</td>\n",
       "      <td>secundaria</td>\n",
       "      <td>privada - particular</td>\n",
       "      <td>-12.227230</td>\n",
       "      <td>-76.907730</td>\n",
       "    </tr>\n",
       "    <tr>\n",
       "      <th>13722</th>\n",
       "      <td>los ingenieros kids</td>\n",
       "      <td>lima</td>\n",
       "      <td>lima</td>\n",
       "      <td>villa maria del triunfo</td>\n",
       "      <td>01 san juan de miraflores</td>\n",
       "      <td>mz 183 lote 4</td>\n",
       "      <td>inicial - jardin</td>\n",
       "      <td>privada - particular</td>\n",
       "      <td>-12.226800</td>\n",
       "      <td>-76.907610</td>\n",
       "    </tr>\n",
       "    <tr>\n",
       "      <th>13723</th>\n",
       "      <td>reino del saber</td>\n",
       "      <td>lima</td>\n",
       "      <td>lima</td>\n",
       "      <td>villa maria del triunfo</td>\n",
       "      <td>01 san juan de miraflores</td>\n",
       "      <td>jiron ayacucho 978 mz 35 lote 12</td>\n",
       "      <td>inicial - jardin</td>\n",
       "      <td>privada - particular</td>\n",
       "      <td>-12.212226</td>\n",
       "      <td>-76.904962</td>\n",
       "    </tr>\n",
       "  </tbody>\n",
       "</table>\n",
       "<p>13724 rows × 10 columns</p>\n",
       "</div>"
      ],
      "text/plain": [
       "                    nombre_de_ss.ee. departamento provincia  \\\n",
       "0          innova schools - bertello         lima      lima   \n",
       "1          innova schools - bertello         lima      lima   \n",
       "2          innova schools - bertello         lima      lima   \n",
       "3             0001 maria auxiliadora         lima      lima   \n",
       "4             0001 maria auxiliadora         lima      lima   \n",
       "...                              ...          ...       ...   \n",
       "13719  los ingenieros de villa poeta         lima      lima   \n",
       "13720  los ingenieros de villa poeta         lima      lima   \n",
       "13721  los ingenieros de villa poeta         lima      lima   \n",
       "13722            los ingenieros kids         lima      lima   \n",
       "13723                reino del saber         lima      lima   \n",
       "\n",
       "                      distrito                  dre__ugel  \\\n",
       "0                         lima                   03 brena   \n",
       "1                         lima                   03 brena   \n",
       "2                         lima                   03 brena   \n",
       "3                         lima                   03 brena   \n",
       "4                         lima                   03 brena   \n",
       "...                        ...                        ...   \n",
       "13719  villa maria del triunfo  01 san juan de miraflores   \n",
       "13720  villa maria del triunfo  01 san juan de miraflores   \n",
       "13721  villa maria del triunfo  01 san juan de miraflores   \n",
       "13722  villa maria del triunfo  01 san juan de miraflores   \n",
       "13723  villa maria del triunfo  01 san juan de miraflores   \n",
       "\n",
       "                                          direccion  nivel__modalidad  \\\n",
       "0                      sub lote 5-b mz c lote 3-4-5  inicial - jardin   \n",
       "1                      sub lote 5-b mz c lote 3-4-5          primaria   \n",
       "2                      sub lote 5-b mz c lote 3-4-5        secundaria   \n",
       "3                           jiron isaias clivio 237          primaria   \n",
       "4                           jiron isaias clivio 237        secundaria   \n",
       "...                                             ...               ...   \n",
       "13719  jiron jose olaya parcela b 301 mz 51b lote 1  inicial - jardin   \n",
       "13720  jiron jose olaya parcela b 301 mz 51b lote 1          primaria   \n",
       "13721  jiron jose olaya parcela b 301 mz 51b lote 1        secundaria   \n",
       "13722                                 mz 183 lote 4  inicial - jardin   \n",
       "13723              jiron ayacucho 978 mz 35 lote 12  inicial - jardin   \n",
       "\n",
       "        gestion__dependencia    latitud   longitud  \n",
       "0       privada - particular -12.062590 -77.062330  \n",
       "1       privada - particular -12.062590 -77.062330  \n",
       "2       privada - particular -12.062590 -77.062330  \n",
       "3      publica - en convenio -12.046710 -77.013730  \n",
       "4      publica - en convenio -12.046710 -77.013730  \n",
       "...                      ...        ...        ...  \n",
       "13719   privada - particular -12.227230 -76.907730  \n",
       "13720   privada - particular -12.227230 -76.907730  \n",
       "13721   privada - particular -12.227230 -76.907730  \n",
       "13722   privada - particular -12.226800 -76.907610  \n",
       "13723   privada - particular -12.212226 -76.904962  \n",
       "\n",
       "[13724 rows x 10 columns]"
      ]
     },
     "execution_count": 3,
     "metadata": {},
     "output_type": "execute_result"
    }
   ],
   "source": [
    "df_colegios = pd.read_csv(\"C:/PC/7. PROYECTOS/Ubika/data/processed/colegios_processed.csv\")\n",
    "df_colegios"
   ]
  },
  {
   "cell_type": "code",
   "execution_count": 59,
   "id": "b630f56a",
   "metadata": {},
   "outputs": [
    {
     "data": {
      "text/html": [
       "<div>\n",
       "<style scoped>\n",
       "    .dataframe tbody tr th:only-of-type {\n",
       "        vertical-align: middle;\n",
       "    }\n",
       "\n",
       "    .dataframe tbody tr th {\n",
       "        vertical-align: top;\n",
       "    }\n",
       "\n",
       "    .dataframe thead th {\n",
       "        text-align: right;\n",
       "    }\n",
       "</style>\n",
       "<table border=\"1\" class=\"dataframe\">\n",
       "  <thead>\n",
       "    <tr style=\"text-align: right;\">\n",
       "      <th></th>\n",
       "      <th>Unnamed: 0</th>\n",
       "      <th>Institución</th>\n",
       "      <th>Código Único</th>\n",
       "      <th>name</th>\n",
       "      <th>Clasificación</th>\n",
       "      <th>Tipo</th>\n",
       "      <th>Departamento</th>\n",
       "      <th>Provincia</th>\n",
       "      <th>Distrito</th>\n",
       "      <th>UBIGEO</th>\n",
       "      <th>...</th>\n",
       "      <th>Condición</th>\n",
       "      <th>Inspección</th>\n",
       "      <th>NORTE</th>\n",
       "      <th>ESTE</th>\n",
       "      <th>COTA</th>\n",
       "      <th>CAMAS</th>\n",
       "      <th>Dirección_Distrito</th>\n",
       "      <th>ubicaciones_tupla</th>\n",
       "      <th>lat</th>\n",
       "      <th>lon</th>\n",
       "    </tr>\n",
       "  </thead>\n",
       "  <tbody>\n",
       "    <tr>\n",
       "      <th>33</th>\n",
       "      <td>33</td>\n",
       "      <td>PRIVADO</td>\n",
       "      <td>10833</td>\n",
       "      <td>OFTALMOLOGÍA INTEGRAL SAC</td>\n",
       "      <td>HOSPITALES O CLINICAS DE ATENCION ESPECIALIZADA</td>\n",
       "      <td>ESTABLECIMIENTO DE SALUD CON INTERNAMIENTO</td>\n",
       "      <td>LIMA</td>\n",
       "      <td>LIMA</td>\n",
       "      <td>MIRAFLORES</td>\n",
       "      <td>150122</td>\n",
       "      <td>...</td>\n",
       "      <td>EN FUNCIONAMIENTO</td>\n",
       "      <td></td>\n",
       "      <td>NaN</td>\n",
       "      <td>NaN</td>\n",
       "      <td>NaN</td>\n",
       "      <td>NaN</td>\n",
       "      <td>AV GRAU 228-248, MIRAFLORES</td>\n",
       "      <td>(-12.1237997, -77.0348612)</td>\n",
       "      <td>-12.123800</td>\n",
       "      <td>-77.034861</td>\n",
       "    </tr>\n",
       "    <tr>\n",
       "      <th>56</th>\n",
       "      <td>56</td>\n",
       "      <td>PRIVADO</td>\n",
       "      <td>14361</td>\n",
       "      <td>INSTITUTO DEL CEREBRO Y LA COLUMNA VERTEBRAL</td>\n",
       "      <td>HOSPITALES O CLINICAS DE ATENCION ESPECIALIZADA</td>\n",
       "      <td>ESTABLECIMIENTO DE SALUD CON INTERNAMIENTO</td>\n",
       "      <td>LIMA</td>\n",
       "      <td>LIMA</td>\n",
       "      <td>MIRAFLORES</td>\n",
       "      <td>150122</td>\n",
       "      <td>...</td>\n",
       "      <td>EN FUNCIONAMIENTO</td>\n",
       "      <td></td>\n",
       "      <td>NaN</td>\n",
       "      <td>NaN</td>\n",
       "      <td>NaN</td>\n",
       "      <td>NaN</td>\n",
       "      <td>AV. ALFREDO BENAVIDES 2965, MIRAFLORES</td>\n",
       "      <td>(-12.1281604, -77.0044124)</td>\n",
       "      <td>-12.128160</td>\n",
       "      <td>-77.004412</td>\n",
       "    </tr>\n",
       "    <tr>\n",
       "      <th>82</th>\n",
       "      <td>82</td>\n",
       "      <td>PRIVADO</td>\n",
       "      <td>19671</td>\n",
       "      <td>CLINICA RENACER</td>\n",
       "      <td>HOSPITALES O CLINICAS DE ATENCION ESPECIALIZADA</td>\n",
       "      <td>ESTABLECIMIENTO DE SALUD CON INTERNAMIENTO</td>\n",
       "      <td>LIMA</td>\n",
       "      <td>LIMA</td>\n",
       "      <td>MIRAFLORES</td>\n",
       "      <td>150122</td>\n",
       "      <td>...</td>\n",
       "      <td>EN FUNCIONAMIENTO</td>\n",
       "      <td></td>\n",
       "      <td>NaN</td>\n",
       "      <td>NaN</td>\n",
       "      <td>NaN</td>\n",
       "      <td>NaN</td>\n",
       "      <td>CALLE CALLE CORONEL INCLAN N° 986 DISTRITO MIR...</td>\n",
       "      <td>NaN</td>\n",
       "      <td>NaN</td>\n",
       "      <td>NaN</td>\n",
       "    </tr>\n",
       "    <tr>\n",
       "      <th>88</th>\n",
       "      <td>88</td>\n",
       "      <td>PRIVADO</td>\n",
       "      <td>16121</td>\n",
       "      <td>CENTRO MEDICO AVENDAÑO S.A.C.</td>\n",
       "      <td>HOSPITALES O CLINICAS DE ATENCION ESPECIALIZADA</td>\n",
       "      <td>ESTABLECIMIENTO DE SALUD CON INTERNAMIENTO</td>\n",
       "      <td>LIMA</td>\n",
       "      <td>LIMA</td>\n",
       "      <td>MIRAFLORES</td>\n",
       "      <td>150122</td>\n",
       "      <td>...</td>\n",
       "      <td>EN FUNCIONAMIENTO</td>\n",
       "      <td></td>\n",
       "      <td>NaN</td>\n",
       "      <td>NaN</td>\n",
       "      <td>NaN</td>\n",
       "      <td>NaN</td>\n",
       "      <td>CALLE CALLE LEONIDAS AVENDAÑO Nº 116 DISTRITO ...</td>\n",
       "      <td>(-12.130825, -77.0243529)</td>\n",
       "      <td>-12.130825</td>\n",
       "      <td>-77.024353</td>\n",
       "    </tr>\n",
       "    <tr>\n",
       "      <th>97</th>\n",
       "      <td>97</td>\n",
       "      <td>PRIVADO</td>\n",
       "      <td>8956</td>\n",
       "      <td>INSTITUTO NEURO CARDIOVASCULAR DE LAS AMERICAS...</td>\n",
       "      <td>INSTITUTOS DE SALUD ESPECIALIZADOS</td>\n",
       "      <td>ESTABLECIMIENTO DE SALUD CON INTERNAMIENTO</td>\n",
       "      <td>LIMA</td>\n",
       "      <td>LIMA</td>\n",
       "      <td>MIRAFLORES</td>\n",
       "      <td>150122</td>\n",
       "      <td>...</td>\n",
       "      <td>EN FUNCIONAMIENTO</td>\n",
       "      <td></td>\n",
       "      <td>-77.019307</td>\n",
       "      <td>-12.130455</td>\n",
       "      <td>NaN</td>\n",
       "      <td>NaN</td>\n",
       "      <td>AVENIDA 28 DE JULIO  1331 AVENIDA 28 DE JULIO ...</td>\n",
       "      <td>NaN</td>\n",
       "      <td>NaN</td>\n",
       "      <td>NaN</td>\n",
       "    </tr>\n",
       "  </tbody>\n",
       "</table>\n",
       "<p>5 rows × 38 columns</p>\n",
       "</div>"
      ],
      "text/plain": [
       "    Unnamed: 0 Institución  Código Único  \\\n",
       "33          33     PRIVADO         10833   \n",
       "56          56     PRIVADO         14361   \n",
       "82          82     PRIVADO         19671   \n",
       "88          88     PRIVADO         16121   \n",
       "97          97     PRIVADO          8956   \n",
       "\n",
       "                                                 name  \\\n",
       "33                          OFTALMOLOGÍA INTEGRAL SAC   \n",
       "56       INSTITUTO DEL CEREBRO Y LA COLUMNA VERTEBRAL   \n",
       "82                                    CLINICA RENACER   \n",
       "88                      CENTRO MEDICO AVENDAÑO S.A.C.   \n",
       "97  INSTITUTO NEURO CARDIOVASCULAR DE LAS AMERICAS...   \n",
       "\n",
       "                                      Clasificación  \\\n",
       "33  HOSPITALES O CLINICAS DE ATENCION ESPECIALIZADA   \n",
       "56  HOSPITALES O CLINICAS DE ATENCION ESPECIALIZADA   \n",
       "82  HOSPITALES O CLINICAS DE ATENCION ESPECIALIZADA   \n",
       "88  HOSPITALES O CLINICAS DE ATENCION ESPECIALIZADA   \n",
       "97               INSTITUTOS DE SALUD ESPECIALIZADOS   \n",
       "\n",
       "                                          Tipo Departamento Provincia  \\\n",
       "33  ESTABLECIMIENTO DE SALUD CON INTERNAMIENTO         LIMA      LIMA   \n",
       "56  ESTABLECIMIENTO DE SALUD CON INTERNAMIENTO         LIMA      LIMA   \n",
       "82  ESTABLECIMIENTO DE SALUD CON INTERNAMIENTO         LIMA      LIMA   \n",
       "88  ESTABLECIMIENTO DE SALUD CON INTERNAMIENTO         LIMA      LIMA   \n",
       "97  ESTABLECIMIENTO DE SALUD CON INTERNAMIENTO         LIMA      LIMA   \n",
       "\n",
       "      Distrito  UBIGEO  ...          Condición  Inspección      NORTE  \\\n",
       "33  MIRAFLORES  150122  ...  EN FUNCIONAMIENTO                    NaN   \n",
       "56  MIRAFLORES  150122  ...  EN FUNCIONAMIENTO                    NaN   \n",
       "82  MIRAFLORES  150122  ...  EN FUNCIONAMIENTO                    NaN   \n",
       "88  MIRAFLORES  150122  ...  EN FUNCIONAMIENTO                    NaN   \n",
       "97  MIRAFLORES  150122  ...  EN FUNCIONAMIENTO             -77.019307   \n",
       "\n",
       "         ESTE COTA CAMAS                                 Dirección_Distrito  \\\n",
       "33        NaN  NaN   NaN                        AV GRAU 228-248, MIRAFLORES   \n",
       "56        NaN  NaN   NaN             AV. ALFREDO BENAVIDES 2965, MIRAFLORES   \n",
       "82        NaN  NaN   NaN  CALLE CALLE CORONEL INCLAN N° 986 DISTRITO MIR...   \n",
       "88        NaN  NaN   NaN  CALLE CALLE LEONIDAS AVENDAÑO Nº 116 DISTRITO ...   \n",
       "97 -12.130455  NaN   NaN  AVENIDA 28 DE JULIO  1331 AVENIDA 28 DE JULIO ...   \n",
       "\n",
       "             ubicaciones_tupla        lat        lon  \n",
       "33  (-12.1237997, -77.0348612) -12.123800 -77.034861  \n",
       "56  (-12.1281604, -77.0044124) -12.128160 -77.004412  \n",
       "82                         NaN        NaN        NaN  \n",
       "88   (-12.130825, -77.0243529) -12.130825 -77.024353  \n",
       "97                         NaN        NaN        NaN  \n",
       "\n",
       "[5 rows x 38 columns]"
      ]
     },
     "execution_count": 59,
     "metadata": {},
     "output_type": "execute_result"
    }
   ],
   "source": [
    "df_hospitales = pd.read_csv(\"Hospitales/hospitales_2.csv\")\n",
    "df_hospitales_1 = df_hospitales[df_hospitales[\"Distrito\"] == \"MIRAFLORES\"]\n",
    "df_hospitales_1.head()"
   ]
  },
  {
   "cell_type": "code",
   "execution_count": 62,
   "id": "90706a77",
   "metadata": {},
   "outputs": [
    {
     "data": {
      "text/html": [
       "<div>\n",
       "<style scoped>\n",
       "    .dataframe tbody tr th:only-of-type {\n",
       "        vertical-align: middle;\n",
       "    }\n",
       "\n",
       "    .dataframe tbody tr th {\n",
       "        vertical-align: top;\n",
       "    }\n",
       "\n",
       "    .dataframe thead th {\n",
       "        text-align: right;\n",
       "    }\n",
       "</style>\n",
       "<table border=\"1\" class=\"dataframe\">\n",
       "  <thead>\n",
       "    <tr style=\"text-align: right;\">\n",
       "      <th></th>\n",
       "      <th>Unnamed: 0</th>\n",
       "      <th>name</th>\n",
       "      <th>location</th>\n",
       "      <th>name_location</th>\n",
       "      <th>location_tupla</th>\n",
       "      <th>lat</th>\n",
       "      <th>lon</th>\n",
       "      <th>Departamento</th>\n",
       "      <th>Provincia</th>\n",
       "    </tr>\n",
       "  </thead>\n",
       "  <tbody>\n",
       "    <tr>\n",
       "      <th>0</th>\n",
       "      <td>0</td>\n",
       "      <td>Agustino Plaza</td>\n",
       "      <td>El Agustino, Lima.</td>\n",
       "      <td>Agustino Plaza, El Agustino, Lima.</td>\n",
       "      <td>(-12.0409429, -77.0031743)</td>\n",
       "      <td>-12.040943</td>\n",
       "      <td>-77.003174</td>\n",
       "      <td>Lima</td>\n",
       "      <td>El Agustino</td>\n",
       "    </tr>\n",
       "    <tr>\n",
       "      <th>1</th>\n",
       "      <td>1</td>\n",
       "      <td>Alameda Plaza</td>\n",
       "      <td>San Juan de Lurigancho, Lima.</td>\n",
       "      <td>Alameda Plaza, San Juan de Lurigancho, Lima.</td>\n",
       "      <td>NaN</td>\n",
       "      <td>NaN</td>\n",
       "      <td>NaN</td>\n",
       "      <td>Lima</td>\n",
       "      <td>San Juan de Lurigancho</td>\n",
       "    </tr>\n",
       "    <tr>\n",
       "      <th>2</th>\n",
       "      <td>2</td>\n",
       "      <td>Arequipa Center</td>\n",
       "      <td>Cerro Colorado, Arequipa.</td>\n",
       "      <td>Arequipa Center, Cerro Colorado, Arequipa.</td>\n",
       "      <td>(-16.3748517, -71.5572757)</td>\n",
       "      <td>-16.374852</td>\n",
       "      <td>-71.557276</td>\n",
       "      <td>Arequipa</td>\n",
       "      <td>Cerro Colorado</td>\n",
       "    </tr>\n",
       "    <tr>\n",
       "      <th>3</th>\n",
       "      <td>3</td>\n",
       "      <td>Arequipa Plaza Norte</td>\n",
       "      <td>Cerro Colorado, Arequipa.</td>\n",
       "      <td>Arequipa Plaza Norte, Cerro Colorado, Arequipa.</td>\n",
       "      <td>(-16.3419344, -71.5837158)</td>\n",
       "      <td>-16.341934</td>\n",
       "      <td>-71.583716</td>\n",
       "      <td>Arequipa</td>\n",
       "      <td>Cerro Colorado</td>\n",
       "    </tr>\n",
       "    <tr>\n",
       "      <th>4</th>\n",
       "      <td>4</td>\n",
       "      <td>Balta Shopping</td>\n",
       "      <td>Miraflores, Lima.</td>\n",
       "      <td>Balta Shopping, Miraflores, Lima.</td>\n",
       "      <td>NaN</td>\n",
       "      <td>NaN</td>\n",
       "      <td>NaN</td>\n",
       "      <td>Lima</td>\n",
       "      <td>Miraflores</td>\n",
       "    </tr>\n",
       "  </tbody>\n",
       "</table>\n",
       "</div>"
      ],
      "text/plain": [
       "   Unnamed: 0                  name                       location  \\\n",
       "0           0        Agustino Plaza             El Agustino, Lima.   \n",
       "1           1         Alameda Plaza  San Juan de Lurigancho, Lima.   \n",
       "2           2       Arequipa Center      Cerro Colorado, Arequipa.   \n",
       "3           3  Arequipa Plaza Norte      Cerro Colorado, Arequipa.   \n",
       "4           4        Balta Shopping              Miraflores, Lima.   \n",
       "\n",
       "                                     name_location  \\\n",
       "0               Agustino Plaza, El Agustino, Lima.   \n",
       "1     Alameda Plaza, San Juan de Lurigancho, Lima.   \n",
       "2       Arequipa Center, Cerro Colorado, Arequipa.   \n",
       "3  Arequipa Plaza Norte, Cerro Colorado, Arequipa.   \n",
       "4                Balta Shopping, Miraflores, Lima.   \n",
       "\n",
       "               location_tupla        lat        lon Departamento  \\\n",
       "0  (-12.0409429, -77.0031743) -12.040943 -77.003174         Lima   \n",
       "1                         NaN        NaN        NaN         Lima   \n",
       "2  (-16.3748517, -71.5572757) -16.374852 -71.557276     Arequipa   \n",
       "3  (-16.3419344, -71.5837158) -16.341934 -71.583716     Arequipa   \n",
       "4                         NaN        NaN        NaN         Lima   \n",
       "\n",
       "                 Provincia  \n",
       "0              El Agustino  \n",
       "1   San Juan de Lurigancho  \n",
       "2           Cerro Colorado  \n",
       "3           Cerro Colorado  \n",
       "4               Miraflores  "
      ]
     },
     "execution_count": 62,
     "metadata": {},
     "output_type": "execute_result"
    }
   ],
   "source": [
    "df_malls = pd.read_csv(\"Malls/malls_1.csv\")\n",
    "df_malls.head()\n",
    "#df_hospitales_1 = df_hospitales[df_hospitales[\"Distrito\"] == \"MIRAFLORES\"]\n",
    "#df_hospitales_1.head()"
   ]
  },
  {
   "cell_type": "code",
   "execution_count": 50,
   "id": "e303ed3d",
   "metadata": {},
   "outputs": [],
   "source": [
    "def proximidad_entre(df_departamentos_1, df_colegios_1):\n",
    "    from sklearn.neighbors import BallTree\n",
    "    import numpy as np\n",
    "\n",
    "    colegios_rad = np.deg2rad(df_colegios_1[['lat', 'lon']].values)\n",
    "    deptos_rad = np.deg2rad(df_departamentos_1[['lat', 'lon']].values)\n",
    "\n",
    "    # Radio terrestre en metros\n",
    "    earth_radius = 6371000  \n",
    "    radius_metros = 500\n",
    "    radius_rad = radius_metros / earth_radius  # Convertir a radianes\n",
    "\n",
    "    # Crear BallTree con coordenadas de colegios (en radianes)\n",
    "    tree = BallTree(colegios_rad, metric='haversine')\n",
    "\n",
    "    # Obtener cantidad de colegios dentro del radio\n",
    "    counts = tree.query_radius(deptos_rad, r=radius_rad, count_only=True)\n",
    "\n",
    "    # Obtener los índices de colegios cercanos\n",
    "    indices_cercanos = tree.query_radius(deptos_rad, r=radius_rad)\n",
    "\n",
    "\n",
    "    # Agregar número total de colegios por departamento\n",
    "    #df_departamentos_1['num_colegios'] = counts\n",
    "\n",
    "    # Crear lista de registros para el nuevo DataFrame\n",
    "    rows = []\n",
    "    for i, indices in enumerate(indices_cercanos):\n",
    "        depto_info = df_departamentos_1.iloc[i]\n",
    "        for idx in indices:\n",
    "            colegio_info = df_colegios_1.iloc[idx].to_dict()\n",
    "            colegio_info['departamento_index'] = i  # Puedes usar otro ID si tienes\n",
    "            rows.append(colegio_info)\n",
    "\n",
    "    # Crear nuevo DataFrame con colegios cercanos\n",
    "    df_colegios_cercanos = pd.DataFrame(rows)\n",
    "\n",
    "    return df_colegios_cercanos\n",
    "\n"
   ]
  },
  {
   "cell_type": "code",
   "execution_count": 61,
   "id": "8e164d7a",
   "metadata": {},
   "outputs": [],
   "source": [
    "df_colegios_cercanos = proximidad_entre(df_departamentos_1, df_colegios_1)"
   ]
  },
  {
   "cell_type": "code",
   "execution_count": 52,
   "id": "689bae3a",
   "metadata": {},
   "outputs": [
    {
     "data": {
      "application/vnd.plotly.v1+json": {
       "config": {
        "plotlyServerURL": "https://plot.ly"
       },
       "data": [
        {
         "lat": [
          -12.1155,
          -12.11735,
          -12.11735,
          -12.11477,
          -12.11468,
          -12.11345,
          -12.11345,
          -12.11748,
          -12.11748,
          -12.11345,
          -12.1155,
          -12.11735,
          -12.11799,
          -12.11426,
          -12.1135
         ],
         "lon": [
          -77.04074,
          -77.04183,
          -77.04183,
          -77.04408,
          -77.04046,
          -77.04079,
          -77.04079,
          -77.04146,
          -77.04146,
          -77.04079,
          -77.04074,
          -77.04183,
          -77.04245,
          -77.03924,
          -77.04355
         ],
         "marker": {
          "color": "red",
          "size": 10
         },
         "mode": "markers",
         "name": "Colegios",
         "type": "scattermapbox"
        },
        {
         "lat": [
          -12.1154467
         ],
         "lon": [
          -77.0436097
         ],
         "marker": {
          "color": "blue",
          "size": 10
         },
         "mode": "markers",
         "name": "Casas",
         "type": "scattermapbox"
        }
       ],
       "layout": {
        "height": 600,
        "mapbox": {
         "center": {
          "lat": -12.1154467,
          "lon": -77.0436097
         },
         "style": "open-street-map",
         "zoom": 15
        },
        "template": {
         "data": {
          "bar": [
           {
            "error_x": {
             "color": "#2a3f5f"
            },
            "error_y": {
             "color": "#2a3f5f"
            },
            "marker": {
             "line": {
              "color": "#E5ECF6",
              "width": 0.5
             },
             "pattern": {
              "fillmode": "overlay",
              "size": 10,
              "solidity": 0.2
             }
            },
            "type": "bar"
           }
          ],
          "barpolar": [
           {
            "marker": {
             "line": {
              "color": "#E5ECF6",
              "width": 0.5
             },
             "pattern": {
              "fillmode": "overlay",
              "size": 10,
              "solidity": 0.2
             }
            },
            "type": "barpolar"
           }
          ],
          "carpet": [
           {
            "aaxis": {
             "endlinecolor": "#2a3f5f",
             "gridcolor": "white",
             "linecolor": "white",
             "minorgridcolor": "white",
             "startlinecolor": "#2a3f5f"
            },
            "baxis": {
             "endlinecolor": "#2a3f5f",
             "gridcolor": "white",
             "linecolor": "white",
             "minorgridcolor": "white",
             "startlinecolor": "#2a3f5f"
            },
            "type": "carpet"
           }
          ],
          "choropleth": [
           {
            "colorbar": {
             "outlinewidth": 0,
             "ticks": ""
            },
            "type": "choropleth"
           }
          ],
          "contour": [
           {
            "colorbar": {
             "outlinewidth": 0,
             "ticks": ""
            },
            "colorscale": [
             [
              0,
              "#0d0887"
             ],
             [
              0.1111111111111111,
              "#46039f"
             ],
             [
              0.2222222222222222,
              "#7201a8"
             ],
             [
              0.3333333333333333,
              "#9c179e"
             ],
             [
              0.4444444444444444,
              "#bd3786"
             ],
             [
              0.5555555555555556,
              "#d8576b"
             ],
             [
              0.6666666666666666,
              "#ed7953"
             ],
             [
              0.7777777777777778,
              "#fb9f3a"
             ],
             [
              0.8888888888888888,
              "#fdca26"
             ],
             [
              1,
              "#f0f921"
             ]
            ],
            "type": "contour"
           }
          ],
          "contourcarpet": [
           {
            "colorbar": {
             "outlinewidth": 0,
             "ticks": ""
            },
            "type": "contourcarpet"
           }
          ],
          "heatmap": [
           {
            "colorbar": {
             "outlinewidth": 0,
             "ticks": ""
            },
            "colorscale": [
             [
              0,
              "#0d0887"
             ],
             [
              0.1111111111111111,
              "#46039f"
             ],
             [
              0.2222222222222222,
              "#7201a8"
             ],
             [
              0.3333333333333333,
              "#9c179e"
             ],
             [
              0.4444444444444444,
              "#bd3786"
             ],
             [
              0.5555555555555556,
              "#d8576b"
             ],
             [
              0.6666666666666666,
              "#ed7953"
             ],
             [
              0.7777777777777778,
              "#fb9f3a"
             ],
             [
              0.8888888888888888,
              "#fdca26"
             ],
             [
              1,
              "#f0f921"
             ]
            ],
            "type": "heatmap"
           }
          ],
          "heatmapgl": [
           {
            "colorbar": {
             "outlinewidth": 0,
             "ticks": ""
            },
            "colorscale": [
             [
              0,
              "#0d0887"
             ],
             [
              0.1111111111111111,
              "#46039f"
             ],
             [
              0.2222222222222222,
              "#7201a8"
             ],
             [
              0.3333333333333333,
              "#9c179e"
             ],
             [
              0.4444444444444444,
              "#bd3786"
             ],
             [
              0.5555555555555556,
              "#d8576b"
             ],
             [
              0.6666666666666666,
              "#ed7953"
             ],
             [
              0.7777777777777778,
              "#fb9f3a"
             ],
             [
              0.8888888888888888,
              "#fdca26"
             ],
             [
              1,
              "#f0f921"
             ]
            ],
            "type": "heatmapgl"
           }
          ],
          "histogram": [
           {
            "marker": {
             "pattern": {
              "fillmode": "overlay",
              "size": 10,
              "solidity": 0.2
             }
            },
            "type": "histogram"
           }
          ],
          "histogram2d": [
           {
            "colorbar": {
             "outlinewidth": 0,
             "ticks": ""
            },
            "colorscale": [
             [
              0,
              "#0d0887"
             ],
             [
              0.1111111111111111,
              "#46039f"
             ],
             [
              0.2222222222222222,
              "#7201a8"
             ],
             [
              0.3333333333333333,
              "#9c179e"
             ],
             [
              0.4444444444444444,
              "#bd3786"
             ],
             [
              0.5555555555555556,
              "#d8576b"
             ],
             [
              0.6666666666666666,
              "#ed7953"
             ],
             [
              0.7777777777777778,
              "#fb9f3a"
             ],
             [
              0.8888888888888888,
              "#fdca26"
             ],
             [
              1,
              "#f0f921"
             ]
            ],
            "type": "histogram2d"
           }
          ],
          "histogram2dcontour": [
           {
            "colorbar": {
             "outlinewidth": 0,
             "ticks": ""
            },
            "colorscale": [
             [
              0,
              "#0d0887"
             ],
             [
              0.1111111111111111,
              "#46039f"
             ],
             [
              0.2222222222222222,
              "#7201a8"
             ],
             [
              0.3333333333333333,
              "#9c179e"
             ],
             [
              0.4444444444444444,
              "#bd3786"
             ],
             [
              0.5555555555555556,
              "#d8576b"
             ],
             [
              0.6666666666666666,
              "#ed7953"
             ],
             [
              0.7777777777777778,
              "#fb9f3a"
             ],
             [
              0.8888888888888888,
              "#fdca26"
             ],
             [
              1,
              "#f0f921"
             ]
            ],
            "type": "histogram2dcontour"
           }
          ],
          "mesh3d": [
           {
            "colorbar": {
             "outlinewidth": 0,
             "ticks": ""
            },
            "type": "mesh3d"
           }
          ],
          "parcoords": [
           {
            "line": {
             "colorbar": {
              "outlinewidth": 0,
              "ticks": ""
             }
            },
            "type": "parcoords"
           }
          ],
          "pie": [
           {
            "automargin": true,
            "type": "pie"
           }
          ],
          "scatter": [
           {
            "fillpattern": {
             "fillmode": "overlay",
             "size": 10,
             "solidity": 0.2
            },
            "type": "scatter"
           }
          ],
          "scatter3d": [
           {
            "line": {
             "colorbar": {
              "outlinewidth": 0,
              "ticks": ""
             }
            },
            "marker": {
             "colorbar": {
              "outlinewidth": 0,
              "ticks": ""
             }
            },
            "type": "scatter3d"
           }
          ],
          "scattercarpet": [
           {
            "marker": {
             "colorbar": {
              "outlinewidth": 0,
              "ticks": ""
             }
            },
            "type": "scattercarpet"
           }
          ],
          "scattergeo": [
           {
            "marker": {
             "colorbar": {
              "outlinewidth": 0,
              "ticks": ""
             }
            },
            "type": "scattergeo"
           }
          ],
          "scattergl": [
           {
            "marker": {
             "colorbar": {
              "outlinewidth": 0,
              "ticks": ""
             }
            },
            "type": "scattergl"
           }
          ],
          "scattermapbox": [
           {
            "marker": {
             "colorbar": {
              "outlinewidth": 0,
              "ticks": ""
             }
            },
            "type": "scattermapbox"
           }
          ],
          "scatterpolar": [
           {
            "marker": {
             "colorbar": {
              "outlinewidth": 0,
              "ticks": ""
             }
            },
            "type": "scatterpolar"
           }
          ],
          "scatterpolargl": [
           {
            "marker": {
             "colorbar": {
              "outlinewidth": 0,
              "ticks": ""
             }
            },
            "type": "scatterpolargl"
           }
          ],
          "scatterternary": [
           {
            "marker": {
             "colorbar": {
              "outlinewidth": 0,
              "ticks": ""
             }
            },
            "type": "scatterternary"
           }
          ],
          "surface": [
           {
            "colorbar": {
             "outlinewidth": 0,
             "ticks": ""
            },
            "colorscale": [
             [
              0,
              "#0d0887"
             ],
             [
              0.1111111111111111,
              "#46039f"
             ],
             [
              0.2222222222222222,
              "#7201a8"
             ],
             [
              0.3333333333333333,
              "#9c179e"
             ],
             [
              0.4444444444444444,
              "#bd3786"
             ],
             [
              0.5555555555555556,
              "#d8576b"
             ],
             [
              0.6666666666666666,
              "#ed7953"
             ],
             [
              0.7777777777777778,
              "#fb9f3a"
             ],
             [
              0.8888888888888888,
              "#fdca26"
             ],
             [
              1,
              "#f0f921"
             ]
            ],
            "type": "surface"
           }
          ],
          "table": [
           {
            "cells": {
             "fill": {
              "color": "#EBF0F8"
             },
             "line": {
              "color": "white"
             }
            },
            "header": {
             "fill": {
              "color": "#C8D4E3"
             },
             "line": {
              "color": "white"
             }
            },
            "type": "table"
           }
          ]
         },
         "layout": {
          "annotationdefaults": {
           "arrowcolor": "#2a3f5f",
           "arrowhead": 0,
           "arrowwidth": 1
          },
          "autotypenumbers": "strict",
          "coloraxis": {
           "colorbar": {
            "outlinewidth": 0,
            "ticks": ""
           }
          },
          "colorscale": {
           "diverging": [
            [
             0,
             "#8e0152"
            ],
            [
             0.1,
             "#c51b7d"
            ],
            [
             0.2,
             "#de77ae"
            ],
            [
             0.3,
             "#f1b6da"
            ],
            [
             0.4,
             "#fde0ef"
            ],
            [
             0.5,
             "#f7f7f7"
            ],
            [
             0.6,
             "#e6f5d0"
            ],
            [
             0.7,
             "#b8e186"
            ],
            [
             0.8,
             "#7fbc41"
            ],
            [
             0.9,
             "#4d9221"
            ],
            [
             1,
             "#276419"
            ]
           ],
           "sequential": [
            [
             0,
             "#0d0887"
            ],
            [
             0.1111111111111111,
             "#46039f"
            ],
            [
             0.2222222222222222,
             "#7201a8"
            ],
            [
             0.3333333333333333,
             "#9c179e"
            ],
            [
             0.4444444444444444,
             "#bd3786"
            ],
            [
             0.5555555555555556,
             "#d8576b"
            ],
            [
             0.6666666666666666,
             "#ed7953"
            ],
            [
             0.7777777777777778,
             "#fb9f3a"
            ],
            [
             0.8888888888888888,
             "#fdca26"
            ],
            [
             1,
             "#f0f921"
            ]
           ],
           "sequentialminus": [
            [
             0,
             "#0d0887"
            ],
            [
             0.1111111111111111,
             "#46039f"
            ],
            [
             0.2222222222222222,
             "#7201a8"
            ],
            [
             0.3333333333333333,
             "#9c179e"
            ],
            [
             0.4444444444444444,
             "#bd3786"
            ],
            [
             0.5555555555555556,
             "#d8576b"
            ],
            [
             0.6666666666666666,
             "#ed7953"
            ],
            [
             0.7777777777777778,
             "#fb9f3a"
            ],
            [
             0.8888888888888888,
             "#fdca26"
            ],
            [
             1,
             "#f0f921"
            ]
           ]
          },
          "colorway": [
           "#636efa",
           "#EF553B",
           "#00cc96",
           "#ab63fa",
           "#FFA15A",
           "#19d3f3",
           "#FF6692",
           "#B6E880",
           "#FF97FF",
           "#FECB52"
          ],
          "font": {
           "color": "#2a3f5f"
          },
          "geo": {
           "bgcolor": "white",
           "lakecolor": "white",
           "landcolor": "#E5ECF6",
           "showlakes": true,
           "showland": true,
           "subunitcolor": "white"
          },
          "hoverlabel": {
           "align": "left"
          },
          "hovermode": "closest",
          "mapbox": {
           "style": "light"
          },
          "paper_bgcolor": "white",
          "plot_bgcolor": "#E5ECF6",
          "polar": {
           "angularaxis": {
            "gridcolor": "white",
            "linecolor": "white",
            "ticks": ""
           },
           "bgcolor": "#E5ECF6",
           "radialaxis": {
            "gridcolor": "white",
            "linecolor": "white",
            "ticks": ""
           }
          },
          "scene": {
           "xaxis": {
            "backgroundcolor": "#E5ECF6",
            "gridcolor": "white",
            "gridwidth": 2,
            "linecolor": "white",
            "showbackground": true,
            "ticks": "",
            "zerolinecolor": "white"
           },
           "yaxis": {
            "backgroundcolor": "#E5ECF6",
            "gridcolor": "white",
            "gridwidth": 2,
            "linecolor": "white",
            "showbackground": true,
            "ticks": "",
            "zerolinecolor": "white"
           },
           "zaxis": {
            "backgroundcolor": "#E5ECF6",
            "gridcolor": "white",
            "gridwidth": 2,
            "linecolor": "white",
            "showbackground": true,
            "ticks": "",
            "zerolinecolor": "white"
           }
          },
          "shapedefaults": {
           "line": {
            "color": "#2a3f5f"
           }
          },
          "ternary": {
           "aaxis": {
            "gridcolor": "white",
            "linecolor": "white",
            "ticks": ""
           },
           "baxis": {
            "gridcolor": "white",
            "linecolor": "white",
            "ticks": ""
           },
           "bgcolor": "#E5ECF6",
           "caxis": {
            "gridcolor": "white",
            "linecolor": "white",
            "ticks": ""
           }
          },
          "title": {
           "x": 0.05
          },
          "xaxis": {
           "automargin": true,
           "gridcolor": "white",
           "linecolor": "white",
           "ticks": "",
           "title": {
            "standoff": 15
           },
           "zerolinecolor": "white",
           "zerolinewidth": 2
          },
          "yaxis": {
           "automargin": true,
           "gridcolor": "white",
           "linecolor": "white",
           "ticks": "",
           "title": {
            "standoff": 15
           },
           "zerolinecolor": "white",
           "zerolinewidth": 2
          }
         }
        }
       }
      }
     },
     "metadata": {},
     "output_type": "display_data"
    }
   ],
   "source": [
    "import plotly.graph_objects as go\n",
    "\n",
    "fig = go.Figure()\n",
    "\n",
    "# Colegios cercanos\n",
    "fig.add_trace(go.Scattermapbox(\n",
    "    lat=df_colegios_cercanos['lat'],\n",
    "    lon=df_colegios_cercanos['lon'],\n",
    "    mode='markers',\n",
    "    marker=dict(size=10, color='red'),\n",
    "    name='Colegios'\n",
    "))\n",
    "\n",
    "# Departamentos\n",
    "fig.add_trace(go.Scattermapbox(\n",
    "    lat=df_departamentos_1['lat'],\n",
    "    lon=df_departamentos_1['lon'],\n",
    "    mode='markers',\n",
    "    marker=dict(size=10, color='blue'),\n",
    "    name='Casas'\n",
    "))\n",
    "\n",
    "fig.update_layout(\n",
    "    mapbox= dict(\n",
    "        style = \"open-street-map\",\n",
    "        zoom=15,\n",
    "        center=dict(lat=float(df_departamentos_1['lat'].mean()), \n",
    "                    lon=float(df_departamentos_1['lon'].mean()),\n",
    "        )\n",
    "    ),\n",
    "    height=600\n",
    ")\n",
    "\n",
    "fig.show()\n"
   ]
  },
  {
   "cell_type": "code",
   "execution_count": null,
   "id": "e4d3afa8",
   "metadata": {},
   "outputs": [],
   "source": []
  }
 ],
 "metadata": {
  "kernelspec": {
   "display_name": "base",
   "language": "python",
   "name": "python3"
  },
  "language_info": {
   "codemirror_mode": {
    "name": "ipython",
    "version": 3
   },
   "file_extension": ".py",
   "mimetype": "text/x-python",
   "name": "python",
   "nbconvert_exporter": "python",
   "pygments_lexer": "ipython3",
   "version": "3.12.7"
  }
 },
 "nbformat": 4,
 "nbformat_minor": 5
}
